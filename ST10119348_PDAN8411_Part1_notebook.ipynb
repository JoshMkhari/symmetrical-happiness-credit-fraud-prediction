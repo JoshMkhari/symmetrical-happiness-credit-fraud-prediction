{
 "cells": [
  {
   "cell_type": "markdown",
   "id": "24fad664",
   "metadata": {},
   "source": [
    "# Credit Card Fraud"
   ]
  },
  {
   "cell_type": "markdown",
   "id": "ce2532b4",
   "metadata": {
    "collapsed": false,
    "jupyter": {
     "outputs_hidden": false
    }
   },
   "source": [
    "## Data Source Reference"
   ]
  },
  {
   "cell_type": "code",
   "execution_count": 11,
   "id": "1006a118",
   "metadata": {
    "collapsed": false,
    "is_executing": true,
    "jupyter": {
     "outputs_hidden": false
    }
   },
   "outputs": [],
   "source": [
    "# https://www.kaggle.com/datasets/mlg-ulb/creditcardfraud"
   ]
  },
  {
   "cell_type": "markdown",
   "id": "7ccfcda7",
   "metadata": {
    "collapsed": false,
    "jupyter": {
     "outputs_hidden": false
    }
   },
   "source": [
    "## Why the data set is appropriate for classification"
   ]
  },
  {
   "cell_type": "markdown",
   "id": "9521fe7f",
   "metadata": {
    "collapsed": false,
    "jupyter": {
     "outputs_hidden": false
    }
   },
   "source": []
  },
  {
   "cell_type": "code",
   "execution_count": 12,
   "id": "d06bdd67",
   "metadata": {
    "collapsed": false,
    "jupyter": {
     "outputs_hidden": false
    }
   },
   "outputs": [],
   "source": [
    "# The Credit Card Fraud Detection dataset is appropriate for classification because it contains two distinct classes of data: fraudulent and non-fraudulent transactions. This allows us to train a machine learning model to identify fraudulent transactions based on the features of the data. The dataset contains 284,807 transactions, of which 492 are fraudulent. This imbalance can be addressed using techniques such as data sampling and cost-sensitive learning. The dataset contains 28 features including the transaction amount, the time of the transaction and the location of the transaction. (Tanouz et al., 2021) States with the aid of the above I can train a machine learning model to identify fraudulent transactions."
   ]
  },
  {
   "cell_type": "markdown",
   "id": "3cea28d2",
   "metadata": {
    "collapsed": false,
    "jupyter": {
     "outputs_hidden": false
    }
   },
   "source": [
    "## An explanation of what analysis is going to be performed"
   ]
  },
  {
   "cell_type": "markdown",
   "id": "70374f79",
   "metadata": {
    "collapsed": false,
    "jupyter": {
     "outputs_hidden": false
    }
   },
   "source": [
    "### What is the question that the analysis will answer?"
   ]
  },
  {
   "cell_type": "code",
   "execution_count": 13,
   "id": "ae984391",
   "metadata": {
    "collapsed": false,
    "jupyter": {
     "outputs_hidden": false
    }
   },
   "outputs": [],
   "source": [
    "# Can we accurately predict if a transaction is fraudulent or not?"
   ]
  },
  {
   "cell_type": "markdown",
   "id": "e9248f66",
   "metadata": {
    "collapsed": false,
    "jupyter": {
     "outputs_hidden": false
    }
   },
   "source": [
    "###  Training and Testing the Naïve Bayes Classifier"
   ]
  },
  {
   "cell_type": "code",
   "execution_count": 14,
   "id": "b325375c",
   "metadata": {
    "collapsed": false,
    "jupyter": {
     "outputs_hidden": false
    }
   },
   "outputs": [],
   "source": [
    "# We will split our dataset into a training set and a test set where I wil use a 70/30 split. The Naïve Bayes Classifier will be trained on the training data. The model will then be used to predict the classes (fraudulent or not) of the test set transactions."
   ]
  },
  {
   "cell_type": "markdown",
   "id": "a40807ff",
   "metadata": {
    "collapsed": false,
    "jupyter": {
     "outputs_hidden": false
    }
   },
   "source": [
    "### Accuracy of Predictions"
   ]
  },
  {
   "cell_type": "code",
   "execution_count": 15,
   "id": "c0d36675",
   "metadata": {
    "collapsed": false,
    "jupyter": {
     "outputs_hidden": false
    }
   },
   "outputs": [],
   "source": [
    "# 1. The accuracy of the predictions will be evaluated by comparing the predicted classes of the test set transactions with their actual classes (Witten, Frank, Hall, & Pal, 2016). This comparison will provide the overall accuracy of the model. Which will be calculated as the number of correct predictions divided by the total number of predictions."
   ]
  },
  {
   "cell_type": "markdown",
   "id": "fe5ca632",
   "metadata": {
    "collapsed": false,
    "jupyter": {
     "outputs_hidden": false
    }
   },
   "source": [
    "### Plotting the Results"
   ]
  },
  {
   "cell_type": "code",
   "execution_count": 16,
   "id": "5bcaa235",
   "metadata": {
    "collapsed": false,
    "jupyter": {
     "outputs_hidden": false
    }
   },
   "outputs": [],
   "source": [
    "#  The results of our model's predictions will be visualized using a confusion matrix. This matrix will display the number of true positives (fraudulent transactions correctly identified), true negatives (legitimate transactions correctly identified), false positives (legitimate transactions incorrectly flagged as fraudulent) and false negatives (fraudulent transactions missed by the model) (Galarnyk, 2022)."
   ]
  },
  {
   "cell_type": "markdown",
   "id": "b5c61e40",
   "metadata": {
    "collapsed": false,
    "jupyter": {
     "outputs_hidden": false
    }
   },
   "source": [
    "### Effect of Changing the Training/Test Splits:"
   ]
  },
  {
   "cell_type": "code",
   "execution_count": null,
   "id": "c4de548f",
   "metadata": {
    "collapsed": false,
    "jupyter": {
     "outputs_hidden": false
    }
   },
   "outputs": [],
   "source": [
    "# The choice of the split between training and test data can affect the model's performance (Galarnyk, 2022). A larger training set usually results in a more accurate model as it has more data to learn from. However, a small test set may not reflect the model's performance on unseen data. Cross-validation can be employed to address this, wherein the dataset is divided into 'k' folds and the model is trained and tested k times each time with a different fold as the test set"
   ]
  },
  {
   "cell_type": "markdown",
   "id": "4a73fbe9",
   "metadata": {
    "collapsed": false,
    "jupyter": {
     "outputs_hidden": false
    }
   },
   "source": [
    "### Comparing with K-NN Algorithm"
   ]
  },
  {
   "cell_type": "code",
   "execution_count": null,
   "id": "373a0343",
   "metadata": {
    "collapsed": false,
    "jupyter": {
     "outputs_hidden": false
    }
   },
   "outputs": [],
   "source": [
    "# The K-NN algorithm will be trained and tested in the same manner as the Naïve Bayes Classifier. The K-NN algorithm's performance can vary based on the value of 'k' and the distance measure used (Uzila, 2022). We will compare the accuracy of both models to determine which performs better on this dataset."
   ]
  },
  {
   "cell_type": "markdown",
   "id": "d804bc08",
   "metadata": {
    "collapsed": false,
    "jupyter": {
     "outputs_hidden": false
    }
   },
   "source": [
    "## Import Libraries"
   ]
  },
  {
   "cell_type": "code",
   "execution_count": 17,
   "id": "b3db5b2f",
   "metadata": {
    "collapsed": false,
    "jupyter": {
     "outputs_hidden": false
    }
   },
   "outputs": [],
   "source": [
    "import pandas as pd\n",
    "from sklearn.model_selection import train_test_split\n",
    "from sklearn.naive_bayes import GaussianNB\n",
    "from sklearn.neighbors import KNeighborsClassifier\n",
    "from sklearn.metrics import accuracy_score, confusion_matrix\n",
    "import matplotlib.pyplot as plotter\n",
    "import seaborn as seab"
   ]
  },
  {
   "cell_type": "markdown",
   "id": "f13adad1",
   "metadata": {
    "collapsed": false,
    "jupyter": {
     "outputs_hidden": false
    }
   },
   "source": [
    "## Load and Visualize Data"
   ]
  },
  {
   "cell_type": "code",
   "execution_count": 4,
   "id": "83ddac64",
   "metadata": {
    "collapsed": false,
    "jupyter": {
     "outputs_hidden": false
    }
   },
   "outputs": [
    {
     "name": "stdout",
     "output_type": "stream",
     "text": [
      "   Time        V1        V2        V3        V4        V5        V6        V7  \\\n",
      "0   0.0 -1.359807 -0.072781  2.536347  1.378155 -0.338321  0.462388  0.239599   \n",
      "1   0.0  1.191857  0.266151  0.166480  0.448154  0.060018 -0.082361 -0.078803   \n",
      "2   1.0 -1.358354 -1.340163  1.773209  0.379780 -0.503198  1.800499  0.791461   \n",
      "3   1.0 -0.966272 -0.185226  1.792993 -0.863291 -0.010309  1.247203  0.237609   \n",
      "4   2.0 -1.158233  0.877737  1.548718  0.403034 -0.407193  0.095921  0.592941   \n",
      "\n",
      "         V8        V9  ...       V21       V22       V23       V24       V25  \\\n",
      "0  0.098698  0.363787  ... -0.018307  0.277838 -0.110474  0.066928  0.128539   \n",
      "1  0.085102 -0.255425  ... -0.225775 -0.638672  0.101288 -0.339846  0.167170   \n",
      "2  0.247676 -1.514654  ...  0.247998  0.771679  0.909412 -0.689281 -0.327642   \n",
      "3  0.377436 -1.387024  ... -0.108300  0.005274 -0.190321 -1.175575  0.647376   \n",
      "4 -0.270533  0.817739  ... -0.009431  0.798278 -0.137458  0.141267 -0.206010   \n",
      "\n",
      "        V26       V27       V28  Amount  Class  \n",
      "0 -0.189115  0.133558 -0.021053  149.62      0  \n",
      "1  0.125895 -0.008983  0.014724    2.69      0  \n",
      "2 -0.139097 -0.055353 -0.059752  378.66      0  \n",
      "3 -0.221929  0.062723  0.061458  123.50      0  \n",
      "4  0.502292  0.219422  0.215153   69.99      0  \n",
      "\n",
      "[5 rows x 31 columns]\n"
     ]
    }
   ],
   "source": [
    "# Read in the dataset\n",
    "data = pd.read_csv('creditcard.csv')\n",
    "\n",
    "# Display the first few rows of the dataframe\n",
    "print(data.head())"
   ]
  },
  {
   "cell_type": "markdown",
   "id": "270fb8d7",
   "metadata": {},
   "source": [
    "## Train and Test Model"
   ]
  },
  {
   "cell_type": "code",
   "execution_count": 18,
   "id": "0be7e8d8",
   "metadata": {},
   "outputs": [],
   "source": [
    "# Split the data into features (X) and target (y)\n",
    "X = data.drop('Class', axis=1)  # Assuming 'Class' is the target column\n",
    "y = data['Class']\n",
    "\n",
    "# Split the data into training and test sets\n",
    "X_train, X_test, y_train, y_test = train_test_split(X, y, test_size=0.3, random_state=42)\n",
    "\n",
    "# Train the Naive Bayes Classifier\n",
    "nb = GaussianNB()\n",
    "nb.fit(X_train, y_train)\n",
    "\n",
    "# Predict the classes using the Naive Bayes Classifier\n",
    "y_pred_nb = nb.predict(X_test)"
   ]
  },
  {
   "cell_type": "markdown",
   "id": "691768be",
   "metadata": {
    "collapsed": false,
    "jupyter": {
     "outputs_hidden": false
    }
   },
   "source": [
    "## Evaluate the Model Performance"
   ]
  },
  {
   "cell_type": "code",
   "execution_count": 19,
   "id": "ec54cf12",
   "metadata": {
    "collapsed": false,
    "jupyter": {
     "outputs_hidden": false
    }
   },
   "outputs": [
    {
     "name": "stdout",
     "output_type": "stream",
     "text": [
      "Naive Bayes Classifier accuracy:  0.9930479969102208\n",
      "K-NN Classifier accuracy:  0.9985955549313578\n"
     ]
    }
   ],
   "source": [
    "# Calculate the accuracy of the Naive Bayes Classifier\n",
    "accuracy_nb = accuracy_score(y_test, y_pred_nb)\n",
    "print('Naive Bayes Classifier accuracy: ', accuracy_nb)\n",
    "\n",
    "# Train the K-NN Classifier\n",
    "knn = KNeighborsClassifier(n_neighbors=3)\n",
    "knn.fit(X_train, y_train)\n",
    "\n",
    "# Predict the classes using the K-NN Classifier\n",
    "y_pred_knn = knn.predict(X_test)\n",
    "\n",
    "# Calculate the accuracy of the K-NN Classifier\n",
    "accuracy_knn = accuracy_score(y_test, y_pred_knn)\n",
    "print('K-NN Classifier accuracy: ', accuracy_knn)"
   ]
  },
  {
   "cell_type": "markdown",
   "id": "b3321d8b",
   "metadata": {
    "collapsed": false,
    "jupyter": {
     "outputs_hidden": false
    }
   },
   "source": [
    "## Visualize Residuals"
   ]
  },
  {
   "cell_type": "code",
   "execution_count": 20,
   "id": "09cc28a6",
   "metadata": {
    "collapsed": false,
    "jupyter": {
     "outputs_hidden": false
    }
   },
   "outputs": [
    {
     "data": {
      "image/png": "[encoded data removed]",
      "text/plain": [
       "<Figure size 1000x700 with 2 Axes>"
      ]
     },
     "metadata": {},
     "output_type": "display_data"
    },
    {
     "data": {
      "image/png": "[encoded data removed]",
      "text/plain": [
       "<Figure size 1000x700 with 2 Axes>"
      ]
     },
     "metadata": {},
     "output_type": "display_data"
    }
   ],
   "source": [
    "# Plot the confusion matrix for the Naive Bayes Classifier\n",
    "plotter.figure(figsize=(10,7))\n",
    "seab.heatmap(confusion_matrix(y_test, y_pred_nb), annot=True, fmt=\".0f\")\n",
    "plotter.title('Naive Bayes Classifier Confusion Matrix')\n",
    "plotter.show()\n",
    "\n",
    "# Plot the confusion matrix for the K-NN Classifier\n",
    "plotter.figure(figsize=(10,7))\n",
    "seab.heatmap(confusion_matrix(y_test, y_pred_knn), annot=True, fmt=\".0f\")\n",
    "plotter.title('K-NN Classifier Confusion Matrix')\n",
    "plotter.show()"
   ]
  },
  {
   "cell_type": "markdown",
   "id": "69671f32",
   "metadata": {
    "collapsed": false,
    "jupyter": {
     "outputs_hidden": false
    }
   },
   "source": [
    "## References List"
   ]
  },
  {
   "cell_type": "code",
   "execution_count": null,
   "id": "4e491483",
   "metadata": {
    "collapsed": false,
    "jupyter": {
     "outputs_hidden": false
    }
   },
   "outputs": [],
   "source": [
    "# Tanouz, D., Subramanian, R.R., Eswar, D., Reddy, G.V.P., Kumar, A.R. and Praneeth, C.V.N.M. (2021). Credit Card Fraud Detection Using Machine Learning. [online] IEEE Xplore. doi:https://doi.org/10.1109/ICICCS51141.2021.9432308.\n",
    "\n",
    "# Pedregosa, F., Varoquaux, G., Gramfort, A., Michel, V., Thirion, B., Grisel, O., Blondel, M., Prettenhofer, P., Weiss, R., Dubourg, V., Vanderplas, J., Passos, A., Cournapeau, D., Brucher, M., Perrot, M., & Duchesnay, E. (2011). Scikit-learn: Machine Learning in Python. Journal of Machine Learning Research, 12, 2825-2830.\n",
    "\n",
    "# Galarnyk, M. (2022). Train Test Split: What it Means and How to Use It | Built In. [online] builtin.com. Available at: https://builtin.com/data-science/train-test-split.\n",
    "\n",
    "# www.kaggle.com. (n.d.). Credit Card Fraud Detection. [online] Available at: https://www.kaggle.com/datasets/mlg-ulb/creditcardfraud.\n",
    "\n",
    "# www.youtube.com. (n.d.). Jupyter Notebook Overview || Data Science || Coders Arcade. [online] Available at: https://www.youtube.com/watch?v=DnpsRKz_0ik [Accessed 27 Apr. 2023].\n",
    "\n",
    "# Uzila, A. (2022). K-Nearest Neighbors, Naive Bayes, and Decision Tree in 10 Minutes. [online] Medium. Available at: https://towardsdatascience.com/k-nearest-neighbors-naive-bayes-and-decision-tree-in-10-minutes-f8620b25e89b."
   ]
  }
 ],
 "metadata": {
  "kernelspec": {
   "display_name": "Python 3 (ipykernel)",
   "language": "python",
   "name": "python3"
  },
  "language_info": {
   "codemirror_mode": {
    "name": "ipython",
    "version": 3
   },
   "file_extension": ".py",
   "mimetype": "text/x-python",
   "name": "python",
   "nbconvert_exporter": "python",
   "pygments_lexer": "ipython3",
   "version": "3.11.3"
  }
 },
 "nbformat": 4,
 "nbformat_minor": 5
}
